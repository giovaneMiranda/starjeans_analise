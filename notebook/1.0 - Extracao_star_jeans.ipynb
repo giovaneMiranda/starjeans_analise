{
 "cells": [
  {
   "cell_type": "markdown",
   "id": "64c2f1c9",
   "metadata": {},
   "source": [
    "# Introdução "
   ]
  },
  {
   "cell_type": "markdown",
   "id": "f753366c",
   "metadata": {},
   "source": [
    "##  Problema "
   ]
  },
  {
   "cell_type": "markdown",
   "id": "aea020fd",
   "metadata": {},
   "source": [
    "Eduardo e Marcelo são dois brasileiros, amigos e sócios de empreendimento. Depois de vários\n",
    "negócio bem sucedidos, eles estão planejando entrar no mercado de moda dos USA como um\n",
    "modelo de negócio do tipo E-commerce.\n",
    "\n",
    "A idéia inicial é entrar no mercado com apenas um produto e para um público específico, no caso\n",
    "o produto seria calças Jenas para o público masculino. O objetivo é manter o custo de operação\n",
    "baixo e escalar a medida que forem conseguindo clientes.\n",
    "Porém, mesmo com o produto de entrada e a audiência definidos, os dois sócios não tem experiência\n",
    "nesse mercado de moda e portanto não sabem definir coisas básicas como preço, o tipo de calça e\n",
    "o material para a fabricação de cada peça.\n",
    "\n",
    "Assim, os dois sócios contrataram uma consultoria de Ciência de Dados para responder as seguintes\n",
    "perguntas: \n",
    "\n",
    "1. Qual o melhor preço de venda para as calças? \n",
    "\n",
    "2. Quantos tipos de calças e suas cores para o produto inicial? \n",
    "\n",
    "3. Quais as matérias-prima necessárias para confeccionar as calças?\n",
    "\n",
    "As principais concorrentes da empresa Start Jeans são as americadas H&M e Macys."
   ]
  },
  {
   "cell_type": "markdown",
   "id": "74f1a5c1",
   "metadata": {},
   "source": [
    "##  Extração"
   ]
  },
  {
   "cell_type": "markdown",
   "id": "b865a146",
   "metadata": {},
   "source": [
    "Colunas para extração da H&M:\n",
    "\n",
    "- id \n",
    "- product_name\n",
    "- product_type \n",
    "- product_color\n",
    "- price \n",
    "- product_composition \n",
    "\n",
    "O id do produto é a concatenação de dois id:\n",
    "- Style id \n",
    "- Color id"
   ]
  },
  {
   "cell_type": "code",
   "execution_count": 3,
   "id": "820d6a1c",
   "metadata": {
    "ExecuteTime": {
     "end_time": "2021-07-29T19:09:18.874226Z",
     "start_time": "2021-07-29T19:09:17.196434Z"
    }
   },
   "outputs": [],
   "source": [
    "from bs4 import BeautifulSoup\n",
    "import requests \n",
    "import pandas as pd\n",
    "from datetime import datetime\n",
    "import numpy as np"
   ]
  },
  {
   "cell_type": "markdown",
   "id": "62479bbf",
   "metadata": {},
   "source": [
    "# Pratica I "
   ]
  },
  {
   "cell_type": "code",
   "execution_count": 4,
   "id": "91faa75d",
   "metadata": {
    "ExecuteTime": {
     "end_time": "2021-07-29T19:09:19.721737Z",
     "start_time": "2021-07-29T19:09:18.875445Z"
    }
   },
   "outputs": [],
   "source": [
    "url = 'https://www2.hm.com/en_us/men/products/jeans.html'\n",
    "\n",
    "headers = {'User-Agent': 'Mozilla/5.0 (Macintosh; Intel Mac OS X 10_10_1) AppleWebKit/537.36 (KHTML, like Gecko) Chrome/39.0.2171.95 Safari/537.36'}\n",
    "page = requests.get(url , headers = headers)"
   ]
  },
  {
   "cell_type": "code",
   "execution_count": 5,
   "id": "f0bf1494",
   "metadata": {
    "ExecuteTime": {
     "end_time": "2021-07-29T19:09:19.848761Z",
     "start_time": "2021-07-29T19:09:19.722652Z"
    }
   },
   "outputs": [],
   "source": [
    "soup_pagination = BeautifulSoup(page.text, 'html.parser')"
   ]
  },
  {
   "cell_type": "code",
   "execution_count": 6,
   "id": "faa9822e",
   "metadata": {
    "ExecuteTime": {
     "end_time": "2021-07-29T19:09:19.859623Z",
     "start_time": "2021-07-29T19:09:19.850439Z"
    }
   },
   "outputs": [],
   "source": [
    "total_items = soup_pagination.find('h2', class_ = 'load-more-heading').get('data-total')"
   ]
  },
  {
   "cell_type": "code",
   "execution_count": 7,
   "id": "4e863297",
   "metadata": {
    "ExecuteTime": {
     "end_time": "2021-07-29T19:09:21.889228Z",
     "start_time": "2021-07-29T19:09:19.861037Z"
    }
   },
   "outputs": [],
   "source": [
    "url_total = url + '?page-size=' + str(total_items)\n",
    "page = requests.get(url_total , headers = headers)"
   ]
  },
  {
   "cell_type": "code",
   "execution_count": 8,
   "id": "3c49174f",
   "metadata": {
    "ExecuteTime": {
     "end_time": "2021-07-29T19:09:22.096800Z",
     "start_time": "2021-07-29T19:09:21.890223Z"
    }
   },
   "outputs": [],
   "source": [
    "soup = BeautifulSoup(page.text, 'html.parser')\n",
    "product_list = soup.find('ul', class_ = 'products-listing small')"
   ]
  },
  {
   "cell_type": "code",
   "execution_count": 9,
   "id": "2800ca0d",
   "metadata": {
    "ExecuteTime": {
     "end_time": "2021-07-29T19:09:22.104379Z",
     "start_time": "2021-07-29T19:09:22.098128Z"
    }
   },
   "outputs": [],
   "source": [
    "# getting product id and type in article HTML tag\n",
    "pg_products_article = product_list.find_all('article', class_ = 'hm-product-item')\n",
    "product_id = [p.get('data-articlecode') for p in pg_products_article]\n",
    "product_type = [p.get('data-category') for p in pg_products_article]"
   ]
  },
  {
   "cell_type": "code",
   "execution_count": 10,
   "id": "c4760018",
   "metadata": {
    "ExecuteTime": {
     "end_time": "2021-07-29T19:09:22.137761Z",
     "start_time": "2021-07-29T19:09:22.105492Z"
    }
   },
   "outputs": [],
   "source": [
    "# getting product name in link HTML tag\n",
    "pg_products_link = product_list.find_all('a', class_ = 'link')\n",
    "product_name = [p.get_text() for p in pg_products_link]"
   ]
  },
  {
   "cell_type": "code",
   "execution_count": 11,
   "id": "1fac8a77",
   "metadata": {
    "ExecuteTime": {
     "end_time": "2021-07-29T19:09:22.147877Z",
     "start_time": "2021-07-29T19:09:22.138776Z"
    }
   },
   "outputs": [],
   "source": [
    "# getting product price in span HTML tag\n",
    "pg_products_span = product_list.find_all('span', class_ = 'price regular')\n",
    "product_price = [p.get_text() for p in pg_products_span]"
   ]
  },
  {
   "cell_type": "code",
   "execution_count": 12,
   "id": "4432694a",
   "metadata": {
    "ExecuteTime": {
     "end_time": "2021-07-29T19:09:22.192092Z",
     "start_time": "2021-07-29T19:09:22.150110Z"
    }
   },
   "outputs": [],
   "source": [
    "# generating a DF based in product attributes scraped\n",
    "df_products = pd.DataFrame([product_id, product_type, product_name, product_price]).T"
   ]
  },
  {
   "cell_type": "code",
   "execution_count": 13,
   "id": "6b4f0da2",
   "metadata": {
    "ExecuteTime": {
     "end_time": "2021-07-29T19:09:22.203345Z",
     "start_time": "2021-07-29T19:09:22.193972Z"
    }
   },
   "outputs": [],
   "source": [
    "df_products.columns = ['product_id', 'product_type', 'product_name', 'product_price']"
   ]
  },
  {
   "cell_type": "code",
   "execution_count": 14,
   "id": "48d58040",
   "metadata": {
    "ExecuteTime": {
     "end_time": "2021-07-29T19:09:22.212002Z",
     "start_time": "2021-07-29T19:09:22.204690Z"
    }
   },
   "outputs": [],
   "source": [
    "# Add column describing the datetime \n",
    "df_products['scrapy_datetime'] = datetime.now().strftime('%y-%m-%d, %H:%M:%S')"
   ]
  },
  {
   "cell_type": "code",
   "execution_count": 61,
   "id": "dc311453",
   "metadata": {
    "ExecuteTime": {
     "end_time": "2021-07-29T20:16:02.253532Z",
     "start_time": "2021-07-29T20:16:02.250028Z"
    }
   },
   "outputs": [],
   "source": [
    "df_products['style_id'] = df_products['product_id'].apply(lambda x : x[:-3])\n",
    "df_products['color_id'] = df_products['product_id'].apply(lambda x : x[-3:])"
   ]
  },
  {
   "cell_type": "markdown",
   "id": "6158c3bb",
   "metadata": {},
   "source": [
    "# Pratica III"
   ]
  },
  {
   "cell_type": "code",
   "execution_count": 54,
   "id": "51dd9d0c",
   "metadata": {
    "ExecuteTime": {
     "end_time": "2021-07-29T20:02:23.324265Z",
     "start_time": "2021-07-29T20:02:23.320869Z"
    }
   },
   "outputs": [],
   "source": [
    "headers = {'User-Agent': 'Mozilla/5.0 (Macintosh; Intel Mac OS X 10_10_1) AppleWebKit/537.36 (KHTML, like Gecko) Chrome/39.0.2171.95 Safari/537.36'}\n",
    "\n",
    "df_default = pd.DataFrame(columns= ['Art. No.', 'Composition', 'Fit', 'Product safety', 'color_id', 'style_id'])\n",
    "df_details = pd.DataFrame()"
   ]
  },
  {
   "cell_type": "code",
   "execution_count": 59,
   "id": "5fad9fb6",
   "metadata": {
    "ExecuteTime": {
     "end_time": "2021-07-29T20:08:34.155075Z",
     "start_time": "2021-07-29T20:08:07.478030Z"
    }
   },
   "outputs": [],
   "source": [
    "for i in range(len(df_products)): \n",
    "    # requesting API\n",
    "    url_product = 'https://www2.hm.com/en_us/productpage.' + df_products.iloc[i]['product_id'] + '.html'\n",
    "    page = requests.get(url_product , headers = headers)\n",
    "    soup = soup_pagination = BeautifulSoup(page.text, 'html.parser')\n",
    "\n",
    "    # scrapping product color and id\n",
    "    pg_product_list = soup.find_all('a', class_ = 'filter-option miniature')\n",
    "\n",
    "    product_color_name = [p.get('data-color') for p in pg_product_list]\n",
    "    product_id =  [p.get('data-articlecode') for p in pg_product_list]\n",
    "\n",
    "    # creating df of products colors \n",
    "    df_color = pd.DataFrame([product_id, product_color_name]).T\n",
    "    df_color.columns = ['product_id', 'product_color']\n",
    "\n",
    "    df_color['style_id'] = df_color['product_id'].apply(lambda x : x[:-3])\n",
    "    df_color['color_id'] = df_color['product_id'].apply(lambda x : x[-3:])\n",
    "\n",
    "    #scrapping fit and composition \n",
    "    pg_description_list = soup.find_all('div', class_ = 'pdp-description-list-item')\n",
    "    product_composition = [list(filter(None,p.get_text().split('\\n'))) for p in pg_description_list]\n",
    "    product_composition = product_composition[1:]\n",
    "\n",
    "    # creating df of product composition \n",
    "    df_composition = pd.DataFrame(product_composition).T\n",
    "    df_composition.columns = df_composition.iloc[0]\n",
    "    df_composition = df_composition.iloc[1:].fillna(method = 'ffill')\n",
    "    \n",
    "    # creating new columns, style id and color id \n",
    "    df_composition['style_id'] = df_composition['Art. No.'].apply(lambda x : x[:-3])\n",
    "    df_composition['color_id'] = df_composition['Art. No.'].apply(lambda x : x[-3:])\n",
    "    \n",
    "    df_composition = pd.concat([df_composition, df_default], axis= 0)\n",
    "    \n",
    "    # merge df color + df composition \n",
    "    df_color_composition = pd.merge(df_color, df_composition[['style_id', 'Fit', 'Product safety', 'Composition']], on = 'style_id') \n",
    "    df_details = pd.concat([df_details, df_color_composition], axis = 0 )"
   ]
  },
  {
   "cell_type": "code",
   "execution_count": 63,
   "id": "cab6c967",
   "metadata": {
    "ExecuteTime": {
     "end_time": "2021-07-29T20:20:10.136792Z",
     "start_time": "2021-07-29T20:20:10.130987Z"
    }
   },
   "outputs": [],
   "source": [
    "df_product_raw = pd.merge(df_products, df_details, on = 'style_id', how = 'left')"
   ]
  },
  {
   "cell_type": "code",
   "execution_count": 64,
   "id": "96e767af",
   "metadata": {
    "ExecuteTime": {
     "end_time": "2021-07-29T20:20:17.127411Z",
     "start_time": "2021-07-29T20:20:17.115170Z"
    },
    "scrolled": false
   },
   "outputs": [
    {
     "data": {
      "text/html": [
       "<div>\n",
       "<style scoped>\n",
       "    .dataframe tbody tr th:only-of-type {\n",
       "        vertical-align: middle;\n",
       "    }\n",
       "\n",
       "    .dataframe tbody tr th {\n",
       "        vertical-align: top;\n",
       "    }\n",
       "\n",
       "    .dataframe thead th {\n",
       "        text-align: right;\n",
       "    }\n",
       "</style>\n",
       "<table border=\"1\" class=\"dataframe\">\n",
       "  <thead>\n",
       "    <tr style=\"text-align: right;\">\n",
       "      <th></th>\n",
       "      <th>product_id_x</th>\n",
       "      <th>product_type</th>\n",
       "      <th>product_name</th>\n",
       "      <th>product_price</th>\n",
       "      <th>scrapy_datetime</th>\n",
       "      <th>style_id</th>\n",
       "      <th>color_id_x</th>\n",
       "      <th>product_id_y</th>\n",
       "      <th>product_color</th>\n",
       "      <th>color_id_y</th>\n",
       "      <th>Composition</th>\n",
       "      <th>Fit</th>\n",
       "      <th>Product safety</th>\n",
       "    </tr>\n",
       "  </thead>\n",
       "  <tbody>\n",
       "    <tr>\n",
       "      <th>0</th>\n",
       "      <td>0985197006</td>\n",
       "      <td>men_jeans_slim</td>\n",
       "      <td>Slim Jeans</td>\n",
       "      <td>$ 19.99</td>\n",
       "      <td>21-07-29, 16:09:22</td>\n",
       "      <td>0985197</td>\n",
       "      <td>006</td>\n",
       "      <td>0985197001</td>\n",
       "      <td>Black</td>\n",
       "      <td>001</td>\n",
       "      <td>Pocket lining: Polyester 65%, Cotton 35%</td>\n",
       "      <td>NaN</td>\n",
       "      <td>NaN</td>\n",
       "    </tr>\n",
       "    <tr>\n",
       "      <th>1</th>\n",
       "      <td>0985197006</td>\n",
       "      <td>men_jeans_slim</td>\n",
       "      <td>Slim Jeans</td>\n",
       "      <td>$ 19.99</td>\n",
       "      <td>21-07-29, 16:09:22</td>\n",
       "      <td>0985197</td>\n",
       "      <td>006</td>\n",
       "      <td>0985197001</td>\n",
       "      <td>Black</td>\n",
       "      <td>001</td>\n",
       "      <td>Shell: Cotton 99%, Elastane 1%</td>\n",
       "      <td>NaN</td>\n",
       "      <td>NaN</td>\n",
       "    </tr>\n",
       "    <tr>\n",
       "      <th>2</th>\n",
       "      <td>0985197006</td>\n",
       "      <td>men_jeans_slim</td>\n",
       "      <td>Slim Jeans</td>\n",
       "      <td>$ 19.99</td>\n",
       "      <td>21-07-29, 16:09:22</td>\n",
       "      <td>0985197</td>\n",
       "      <td>006</td>\n",
       "      <td>0985197002</td>\n",
       "      <td>Midnight blue</td>\n",
       "      <td>002</td>\n",
       "      <td>Pocket lining: Polyester 65%, Cotton 35%</td>\n",
       "      <td>NaN</td>\n",
       "      <td>NaN</td>\n",
       "    </tr>\n",
       "    <tr>\n",
       "      <th>3</th>\n",
       "      <td>0985197006</td>\n",
       "      <td>men_jeans_slim</td>\n",
       "      <td>Slim Jeans</td>\n",
       "      <td>$ 19.99</td>\n",
       "      <td>21-07-29, 16:09:22</td>\n",
       "      <td>0985197</td>\n",
       "      <td>006</td>\n",
       "      <td>0985197002</td>\n",
       "      <td>Midnight blue</td>\n",
       "      <td>002</td>\n",
       "      <td>Shell: Cotton 99%, Elastane 1%</td>\n",
       "      <td>NaN</td>\n",
       "      <td>NaN</td>\n",
       "    </tr>\n",
       "    <tr>\n",
       "      <th>4</th>\n",
       "      <td>0985197006</td>\n",
       "      <td>men_jeans_slim</td>\n",
       "      <td>Slim Jeans</td>\n",
       "      <td>$ 19.99</td>\n",
       "      <td>21-07-29, 16:09:22</td>\n",
       "      <td>0985197</td>\n",
       "      <td>006</td>\n",
       "      <td>0985197003</td>\n",
       "      <td>Denim blue</td>\n",
       "      <td>003</td>\n",
       "      <td>Pocket lining: Polyester 65%, Cotton 35%</td>\n",
       "      <td>NaN</td>\n",
       "      <td>NaN</td>\n",
       "    </tr>\n",
       "    <tr>\n",
       "      <th>...</th>\n",
       "      <td>...</td>\n",
       "      <td>...</td>\n",
       "      <td>...</td>\n",
       "      <td>...</td>\n",
       "      <td>...</td>\n",
       "      <td>...</td>\n",
       "      <td>...</td>\n",
       "      <td>...</td>\n",
       "      <td>...</td>\n",
       "      <td>...</td>\n",
       "      <td>...</td>\n",
       "      <td>...</td>\n",
       "      <td>...</td>\n",
       "    </tr>\n",
       "    <tr>\n",
       "      <th>7426</th>\n",
       "      <td>0664647004</td>\n",
       "      <td>men_jeans_skinny</td>\n",
       "      <td>Skinny Jeans</td>\n",
       "      <td>$ 34.99</td>\n",
       "      <td>21-07-29, 16:09:22</td>\n",
       "      <td>0664647</td>\n",
       "      <td>004</td>\n",
       "      <td>0664647035</td>\n",
       "      <td>Dark blue/washed</td>\n",
       "      <td>035</td>\n",
       "      <td>Cotton 59%, Polyester 39%, Elastane 2%</td>\n",
       "      <td>NaN</td>\n",
       "      <td>\\t\\t\\t                        FOR CHILD’S SAFE...</td>\n",
       "    </tr>\n",
       "    <tr>\n",
       "      <th>7427</th>\n",
       "      <td>0664647004</td>\n",
       "      <td>men_jeans_skinny</td>\n",
       "      <td>Skinny Jeans</td>\n",
       "      <td>$ 34.99</td>\n",
       "      <td>21-07-29, 16:09:22</td>\n",
       "      <td>0664647</td>\n",
       "      <td>004</td>\n",
       "      <td>0664647036</td>\n",
       "      <td>Denim blue</td>\n",
       "      <td>036</td>\n",
       "      <td>Cotton 59%, Polyester 39%, Elastane 2%</td>\n",
       "      <td>NaN</td>\n",
       "      <td>\\r</td>\n",
       "    </tr>\n",
       "    <tr>\n",
       "      <th>7428</th>\n",
       "      <td>0664647004</td>\n",
       "      <td>men_jeans_skinny</td>\n",
       "      <td>Skinny Jeans</td>\n",
       "      <td>$ 34.99</td>\n",
       "      <td>21-07-29, 16:09:22</td>\n",
       "      <td>0664647</td>\n",
       "      <td>004</td>\n",
       "      <td>0664647036</td>\n",
       "      <td>Denim blue</td>\n",
       "      <td>036</td>\n",
       "      <td>Cotton 59%, Polyester 39%, Elastane 2%</td>\n",
       "      <td>NaN</td>\n",
       "      <td>\\t\\t\\t                        FOR CHILD’S SAFE...</td>\n",
       "    </tr>\n",
       "    <tr>\n",
       "      <th>7429</th>\n",
       "      <td>0664647004</td>\n",
       "      <td>men_jeans_skinny</td>\n",
       "      <td>Skinny Jeans</td>\n",
       "      <td>$ 34.99</td>\n",
       "      <td>21-07-29, 16:09:22</td>\n",
       "      <td>0664647</td>\n",
       "      <td>004</td>\n",
       "      <td>0664647037</td>\n",
       "      <td>Black/coated</td>\n",
       "      <td>037</td>\n",
       "      <td>Cotton 59%, Polyester 39%, Elastane 2%</td>\n",
       "      <td>NaN</td>\n",
       "      <td>\\r</td>\n",
       "    </tr>\n",
       "    <tr>\n",
       "      <th>7430</th>\n",
       "      <td>0664647004</td>\n",
       "      <td>men_jeans_skinny</td>\n",
       "      <td>Skinny Jeans</td>\n",
       "      <td>$ 34.99</td>\n",
       "      <td>21-07-29, 16:09:22</td>\n",
       "      <td>0664647</td>\n",
       "      <td>004</td>\n",
       "      <td>0664647037</td>\n",
       "      <td>Black/coated</td>\n",
       "      <td>037</td>\n",
       "      <td>Cotton 59%, Polyester 39%, Elastane 2%</td>\n",
       "      <td>NaN</td>\n",
       "      <td>\\t\\t\\t                        FOR CHILD’S SAFE...</td>\n",
       "    </tr>\n",
       "  </tbody>\n",
       "</table>\n",
       "<p>7431 rows × 13 columns</p>\n",
       "</div>"
      ],
      "text/plain": [
       "     product_id_x      product_type  product_name product_price  \\\n",
       "0      0985197006    men_jeans_slim    Slim Jeans       $ 19.99   \n",
       "1      0985197006    men_jeans_slim    Slim Jeans       $ 19.99   \n",
       "2      0985197006    men_jeans_slim    Slim Jeans       $ 19.99   \n",
       "3      0985197006    men_jeans_slim    Slim Jeans       $ 19.99   \n",
       "4      0985197006    men_jeans_slim    Slim Jeans       $ 19.99   \n",
       "...           ...               ...           ...           ...   \n",
       "7426   0664647004  men_jeans_skinny  Skinny Jeans       $ 34.99   \n",
       "7427   0664647004  men_jeans_skinny  Skinny Jeans       $ 34.99   \n",
       "7428   0664647004  men_jeans_skinny  Skinny Jeans       $ 34.99   \n",
       "7429   0664647004  men_jeans_skinny  Skinny Jeans       $ 34.99   \n",
       "7430   0664647004  men_jeans_skinny  Skinny Jeans       $ 34.99   \n",
       "\n",
       "         scrapy_datetime style_id color_id_x product_id_y     product_color  \\\n",
       "0     21-07-29, 16:09:22  0985197        006   0985197001             Black   \n",
       "1     21-07-29, 16:09:22  0985197        006   0985197001             Black   \n",
       "2     21-07-29, 16:09:22  0985197        006   0985197002     Midnight blue   \n",
       "3     21-07-29, 16:09:22  0985197        006   0985197002     Midnight blue   \n",
       "4     21-07-29, 16:09:22  0985197        006   0985197003        Denim blue   \n",
       "...                  ...      ...        ...          ...               ...   \n",
       "7426  21-07-29, 16:09:22  0664647        004   0664647035  Dark blue/washed   \n",
       "7427  21-07-29, 16:09:22  0664647        004   0664647036        Denim blue   \n",
       "7428  21-07-29, 16:09:22  0664647        004   0664647036        Denim blue   \n",
       "7429  21-07-29, 16:09:22  0664647        004   0664647037      Black/coated   \n",
       "7430  21-07-29, 16:09:22  0664647        004   0664647037      Black/coated   \n",
       "\n",
       "     color_id_y                               Composition  Fit  \\\n",
       "0           001  Pocket lining: Polyester 65%, Cotton 35%  NaN   \n",
       "1           001            Shell: Cotton 99%, Elastane 1%  NaN   \n",
       "2           002  Pocket lining: Polyester 65%, Cotton 35%  NaN   \n",
       "3           002            Shell: Cotton 99%, Elastane 1%  NaN   \n",
       "4           003  Pocket lining: Polyester 65%, Cotton 35%  NaN   \n",
       "...         ...                                       ...  ...   \n",
       "7426        035    Cotton 59%, Polyester 39%, Elastane 2%  NaN   \n",
       "7427        036    Cotton 59%, Polyester 39%, Elastane 2%  NaN   \n",
       "7428        036    Cotton 59%, Polyester 39%, Elastane 2%  NaN   \n",
       "7429        037    Cotton 59%, Polyester 39%, Elastane 2%  NaN   \n",
       "7430        037    Cotton 59%, Polyester 39%, Elastane 2%  NaN   \n",
       "\n",
       "                                         Product safety  \n",
       "0                                                   NaN  \n",
       "1                                                   NaN  \n",
       "2                                                   NaN  \n",
       "3                                                   NaN  \n",
       "4                                                   NaN  \n",
       "...                                                 ...  \n",
       "7426  \\t\\t\\t                        FOR CHILD’S SAFE...  \n",
       "7427                                                 \\r  \n",
       "7428  \\t\\t\\t                        FOR CHILD’S SAFE...  \n",
       "7429                                                 \\r  \n",
       "7430  \\t\\t\\t                        FOR CHILD’S SAFE...  \n",
       "\n",
       "[7431 rows x 13 columns]"
      ]
     },
     "execution_count": 64,
     "metadata": {},
     "output_type": "execute_result"
    }
   ],
   "source": [
    "df_product_raw"
   ]
  },
  {
   "cell_type": "code",
   "execution_count": null,
   "id": "65f79850",
   "metadata": {},
   "outputs": [],
   "source": []
  }
 ],
 "metadata": {
  "kernelspec": {
   "display_name": "Python 3 (ipykernel)",
   "language": "python",
   "name": "python3"
  },
  "language_info": {
   "codemirror_mode": {
    "name": "ipython",
    "version": 3
   },
   "file_extension": ".py",
   "mimetype": "text/x-python",
   "name": "python",
   "nbconvert_exporter": "python",
   "pygments_lexer": "ipython3",
   "version": "3.8.10"
  }
 },
 "nbformat": 4,
 "nbformat_minor": 5
}
