{
 "cells": [
  {
   "cell_type": "markdown",
   "id": "90848107-595d-4a02-b582-b83d8859da1e",
   "metadata": {},
   "source": [
    "# Introdução"
   ]
  },
  {
   "cell_type": "markdown",
   "id": "a06910f2-5a02-4ce8-a121-e0d20aa40713",
   "metadata": {},
   "source": [
    "## O Problema de Negócio"
   ]
  },
  {
   "cell_type": "markdown",
   "id": "bf2bb72d-baae-4c38-96df-16b9c945d20a",
   "metadata": {},
   "source": [
    "Eduardo e Marcelo são dois brasileiros, amigos e sócios de empreendimento. Depois de vários\n",
    "negócio bem sucedidos, eles estão planejando entrar no mercado de moda dos USA como um\n",
    "modelo de negócio do tipo E-commerce.\n",
    "\n",
    "A idéia inicial é entrar no mercado com apenas um produto e para um público específico, no caso\n",
    "o produto seria calças Jenas para o público masculino. O objetivo é manter o custo de operação\n",
    "baixo e escalar a medida que forem conseguindo clientes.\n",
    "Porém, mesmo com o produto de entrada e a audiência definidos, os dois sócios não tem experiência\n",
    "nesse mercado de moda e portanto não sabem definir coisas básicas como preço, o tipo de calça e\n",
    "o material para a fabricação de cada peça.\n",
    "\n",
    "Assim, os dois sócios contrataram uma consultoria de Ciência de Dados para responder as seguintes\n",
    "perguntas: \n",
    "\n",
    "1. Qual o melhor preço de venda para as calças? \n",
    "\n",
    "2. Quantos tipos de calças e suas cores para o produto inicial? \n",
    "\n",
    "3. Quais as matérias-prima necessárias para confeccionar as calças?\n",
    "\n",
    "As principais concorrentes da empresa Start Jeans são as americadas H&M e Macys.\n"
   ]
  },
  {
   "cell_type": "markdown",
   "id": "eb2fd97f-8827-43b1-9e3f-7814b7bb8acd",
   "metadata": {},
   "source": [
    "# Planejamento da Solução "
   ]
  },
  {
   "cell_type": "markdown",
   "id": "c3c828d4",
   "metadata": {
    "heading_collapsed": true
   },
   "source": [
    "## Qual o melhor preço de venda para as calças?"
   ]
  },
  {
   "cell_type": "markdown",
   "id": "5d4e123b",
   "metadata": {
    "ExecuteTime": {
     "end_time": "2021-07-14T19:04:47.571684Z",
     "start_time": "2021-07-14T19:04:47.564183Z"
    },
    "hidden": true
   },
   "source": [
    "### Planejamento da Entrega"
   ]
  },
  {
   "cell_type": "markdown",
   "id": "bf920ae4",
   "metadata": {
    "hidden": true
   },
   "source": [
    "***1. Respostas***\n",
    "\n",
    "- Mediana dos preços dos concorrentes\n",
    "\n",
    "***2. Formato de Entrega***\n",
    "\n",
    "- Tabela e gráfico\n",
    "\n",
    "***3. Local de Entrega***\n",
    "\n",
    "- App no Streamlit"
   ]
  },
  {
   "cell_type": "markdown",
   "id": "cdeaf0a6",
   "metadata": {
    "hidden": true
   },
   "source": [
    "### Planejamento do Processo\n"
   ]
  },
  {
   "cell_type": "markdown",
   "id": "3405fb99",
   "metadata": {
    "hidden": true
   },
   "source": [
    "***1. Processo***\n",
    "- Realizar o calculo da mediana sobre o produto por tipo e cor das calças\n",
    "\n",
    "***2. Formato de entrega***\n",
    "\n",
    "- Grafico de barras com a mediana dos preços dos produtos por tipo e cor dos ultimos 30 dias\n",
    "\n",
    "- Tabela com os atributos id, product_name, product_type, product_color, product_price\n",
    "\n",
    "- Definir scheme de dados: Atributos e seus tipos\n",
    "\n",
    "- Design do ETL ( Script de extracao, transformacao e carga) \n",
    "\n",
    "- Planejamento de agendamento dos Scripts \n",
    "\n",
    "- Plotar visualizacao \n",
    "\n",
    "- Entregar produto final \n",
    "\n",
    "***3. Local de entrega***\n",
    "\n",
    "- Dashboar no StreamLit com publicacao no Heroku"
   ]
  },
  {
   "cell_type": "markdown",
   "id": "a8bdd781-d4dc-4b32-8201-1a32a37da660",
   "metadata": {
    "hidden": true
   },
   "source": [
    "### Planejamento de Entrada de Dados"
   ]
  },
  {
   "cell_type": "markdown",
   "id": "820f3d87",
   "metadata": {
    "hidden": true
   },
   "source": [
    "***1. Fonte de dados***\n",
    "\n",
    "- Site da H&M: https://www2.hm.com/en_us/men/products/jeans.html\n",
    "\n",
    "- Site da Macys: https://www.macys.com/shop/mens-clothing/mens-jeans\n",
    "\n",
    "***2. Ferramentas*** \n",
    "\n",
    "- Python 3.8\n",
    "\n",
    "- Webscrapping BS4 ou Selenium \n",
    "\n",
    "- Pycharm\n",
    "\n",
    "- Jupyter Notebook\n",
    "\n",
    "- Crontjob, Airflow(agendamento)\n",
    "\n",
    "- StreamLit(visualizacao0"
   ]
  },
  {
   "cell_type": "markdown",
   "id": "e59478dd",
   "metadata": {},
   "source": [
    "## Quantos tipos de calças e suas cores para o produto inicial?"
   ]
  },
  {
   "cell_type": "markdown",
   "id": "850a44e8",
   "metadata": {},
   "source": [
    "### Planejamento da Entrega "
   ]
  },
  {
   "cell_type": "markdown",
   "id": "c816737b",
   "metadata": {},
   "source": [
    "***1. Respostas***\n",
    "\n",
    "- Lista agrupada com oas tipos e cores com melhores preços dos concorrentes\n",
    "\n",
    "***2. Formato de Entrega***\n",
    "\n",
    "- Tabela e gráfico\n",
    "\n",
    "***3. Local de Entrega***\n",
    "\n",
    "- App no Streamlit"
   ]
  },
  {
   "cell_type": "markdown",
   "id": "7475a1ea",
   "metadata": {},
   "source": [
    "### Planejamento do Processo"
   ]
  },
  {
   "cell_type": "markdown",
   "id": "b3a22c8c",
   "metadata": {},
   "source": [
    "***1. Processo***\n",
    "- Realizar o calculo da mediana sobre o produto por tipo e cor das calças\n",
    "\n",
    "***2. Formato de entrega***\n",
    "\n",
    "- Grafico de barras com a mediana dos preços dos produtos por tipo e cor dos ultimos 30 dias\n",
    "\n",
    "- Tabela com os atributos id, product_name, product_type, product_color, product_price\n",
    "\n",
    "- Definir scheme de dados: Atributos e seus tipos\n",
    "\n",
    "- Design do ETL ( Script de extracao, transformacao e carga) \n",
    "\n",
    "- Planejamento de agendamento dos Scripts \n",
    "\n",
    "- Plotar visualizacao \n",
    "\n",
    "- Entregar produto final \n",
    "\n",
    "***3. Local de entrega***\n",
    "\n",
    "- App com StreamLit"
   ]
  },
  {
   "cell_type": "markdown",
   "id": "f7cce12e",
   "metadata": {},
   "source": [
    "###  Planejamento da Entrada"
   ]
  },
  {
   "cell_type": "markdown",
   "id": "239be1ed",
   "metadata": {},
   "source": [
    "***1. Fonte de dados***\n",
    "\n",
    "- Site da H&M: https://www2.hm.com/en_us/men/products/jeans.html\n",
    "\n",
    "- Site da Macys: https://www.macys.com/shop/mens-clothing/mens-jeans\n",
    "\n",
    "***2. Ferramentas*** \n",
    "\n",
    "- Python 3.8\n",
    "\n",
    "- Webscrapping BS4 ou Selenium \n",
    "\n",
    "- Pycharm\n",
    "\n",
    "- Jupyter Notebook\n",
    "\n",
    "- Crontjob, Airflow(agendamento)\n",
    "\n",
    "- StreamLit(visualizacao0"
   ]
  },
  {
   "cell_type": "markdown",
   "id": "9a02d12a",
   "metadata": {},
   "source": [
    "## Quais as matérias-prima necessárias para confeccionar as calças?"
   ]
  },
  {
   "cell_type": "markdown",
   "id": "7b7b5c9c",
   "metadata": {},
   "source": [
    "### Planejamento da Entrega"
   ]
  },
  {
   "cell_type": "markdown",
   "id": "16f680a7",
   "metadata": {},
   "source": [
    "***1. Respostas***\n",
    "\n",
    "- - Mediana dos preços dos concorrentes por material. \n",
    "\n",
    "***2. Formato de Entrega***\n",
    "\n",
    "- Tabela e gráfico\n",
    "\n",
    "***3. Local de Entrega***\n",
    "\n",
    "- App no Streamlit"
   ]
  },
  {
   "cell_type": "markdown",
   "id": "c6638c9e",
   "metadata": {},
   "source": [
    "### Planejamento do Processo"
   ]
  },
  {
   "cell_type": "markdown",
   "id": "d518eabc",
   "metadata": {
    "ExecuteTime": {
     "start_time": "2021-07-15T18:37:07.396Z"
    }
   },
   "source": [
    "***1. Processo***\n",
    "- Realizar o calculo da mediana sobre o produto por tipo e cor das calças e materais \n",
    "\n",
    "***2. Formato de entrega***\n",
    "\n",
    "- Grafico de barras com a mediana dos preços dos produtos por tipo e cor dos ultimos 30 dias\n",
    "\n",
    "- Tabela com os atributos id, product_name, product_type, product_color, product_price, product_material\n",
    "\n",
    "- Definir scheme de dados: Atributos e seus tipos\n",
    "\n",
    "- Design do ETL ( Script de extracao, transformacao e carga) \n",
    "\n",
    "- Planejamento de agendamento dos Scripts \n",
    "\n",
    "- Plotar visualizacao \n",
    "\n",
    "- Entregar produto final \n",
    "\n",
    "***3. Local de entrega***\n",
    "\n",
    "- App com StreamLit"
   ]
  }
 ],
 "metadata": {
  "kernelspec": {
   "display_name": "Python 3 (ipykernel)",
   "language": "python",
   "name": "python3"
  },
  "language_info": {
   "codemirror_mode": {
    "name": "ipython",
    "version": 3
   },
   "file_extension": ".py",
   "mimetype": "text/x-python",
   "name": "python",
   "nbconvert_exporter": "python",
   "pygments_lexer": "ipython3",
   "version": "3.8.10"
  },
  "latex_envs": {
   "LaTeX_envs_menu_present": true,
   "autoclose": false,
   "autocomplete": true,
   "bibliofile": "biblio.bib",
   "cite_by": "apalike",
   "current_citInitial": 1,
   "eqLabelWithNumbers": true,
   "eqNumInitial": 1,
   "hotkeys": {
    "equation": "Ctrl-E",
    "itemize": "Ctrl-I"
   },
   "labels_anchors": false,
   "latex_user_defs": false,
   "report_style_numbering": false,
   "user_envs_cfg": false
  },
  "varInspector": {
   "cols": {
    "lenName": 16,
    "lenType": 16,
    "lenVar": 40
   },
   "kernels_config": {
    "python": {
     "delete_cmd_postfix": "",
     "delete_cmd_prefix": "del ",
     "library": "var_list.py",
     "varRefreshCmd": "print(var_dic_list())"
    },
    "r": {
     "delete_cmd_postfix": ") ",
     "delete_cmd_prefix": "rm(",
     "library": "var_list.r",
     "varRefreshCmd": "cat(var_dic_list()) "
    }
   },
   "types_to_exclude": [
    "module",
    "function",
    "builtin_function_or_method",
    "instance",
    "_Feature"
   ],
   "window_display": false
  }
 },
 "nbformat": 4,
 "nbformat_minor": 5
}
